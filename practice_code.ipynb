{
 "cells": [
  {
   "cell_type": "code",
   "execution_count": null,
   "id": "703882a3-da39-443b-be68-e743213086b6",
   "metadata": {},
   "outputs": [],
   "source": [
    "pi = 3.14159\n",
    "radius = 2.2\n",
    "# area of circle equation <- this is a comment\n",
    "area = pi*(radius**2)\n",
    "print(area)\n",
    "\n",
    "# change values of radius <- another comment\n",
    "# use comments to help others understand what you are doing in code\n",
    "radius = radius + 1\n",
    "print(area)     # area doesn't change\n",
    "area = pi*(radius**2)\n",
    "print(area)\n",
    "\n",
    "\n",
    "#############################\n",
    "#### COMMENTING LINES #######\n",
    "#############################\n",
    "# to comment MANY lines at a time, highlight all of them then CTRL+1\n",
    "# do CTRL+1 again to uncomment them\n",
    "# try it on the next few lines below!\n",
    "\n",
    "#area = pi*(radius**2)\n",
    "#print(area)\n",
    "#radius = radius + 1\n",
    "#area = pi*(radius**2)\n",
    "#print(area)\n",
    "\n",
    "#############################\n",
    "#### AUTOCOMPLETE #######\n",
    "#############################\n",
    "# Spyder can autocomplete names for you\n",
    "# start typing a variable name defined in your program and hit tab \n",
    "# before you finish typing -- try it below\n",
    "\n",
    "# define a variable\n",
    "a_very_long_variable_name_dont_name_them_this_long_pls = 0\n",
    "\n",
    "# below, start typing a_ve then hit tab... cool, right!\n",
    "# use autocomplete to change the value of that variable to 1\n",
    "\n",
    "# use autocomplete to write a line that prints the value of that long variable\n",
    "# notice that Spyder also automatically adds the closed parentheses for you!"
   ]
  },
  {
   "cell_type": "code",
   "execution_count": null,
   "id": "09345add-dc78-49c6-8f11-a8a0e65fb372",
   "metadata": {},
   "outputs": [],
   "source": [
    "# Step 1: Define key values\n",
    "# pi is a mathematical constant, radius is our circle size\n",
    "pi = 3.14159\n",
    "radius = 2.2"
   ]
  },
  {
   "cell_type": "code",
   "execution_count": null,
   "id": "9b1a7ed2-4225-430c-954b-2decccdd2e8e",
   "metadata": {},
   "outputs": [],
   "source": [
    "# Step 2: Calculate area of a circle\n",
    "# Formula = pi * (radius squared)\n",
    "area = pi * (radius**2)\n",
    "\n",
    "# Print the area result\n",
    "print(\"The area of the circle is:\", area)"
   ]
  },
  {
   "cell_type": "code",
   "execution_count": null,
   "id": "e0f03921-0dc3-4bf0-991e-0a93969fcfef",
   "metadata": {},
   "outputs": [],
   "source": [
    "# Step 3: Change the radius and see what happens\n",
    "radius = radius + 1\n",
    "\n",
    "# At this point, the area hasn’t updated yet\n",
    "print(\"Old area value (not updated):\", area)\n",
    "\n",
    "# Now recalculate with the new radius\n",
    "area = pi * (radius**2)\n",
    "print(\"New area value:\", area)"
   ]
  },
  {
   "cell_type": "code",
   "execution_count": null,
   "id": "9dea49e9-b41c-45de-a6e4-3ac8a84e63d4",
   "metadata": {},
   "outputs": [],
   "source": [
    "# Step 4: Extra tips for coding\n",
    "\n",
    "# Comments: use CTRL+1 to quickly comment or uncomment many lines at once\n",
    "\n",
    "# Autocomplete: start typing a variable name and press TAB to finish it automatically\n",
    "a_very_long_variable_name_dont_name_them_this_long_pls = 0\n",
    "\n",
    "# Update the variable\n",
    "a_very_long_variable_name_dont_name_them_this_long_pls = 1\n",
    "\n",
    "# Print the variable value\n",
    "print(a_very_long_variable_name_dont_name_them_this_long_pls)"
   ]
  }
 ],
 "metadata": {
  "kernelspec": {
   "display_name": "Python [conda env:base] *",
   "language": "python",
   "name": "conda-base-py"
  },
  "language_info": {
   "codemirror_mode": {
    "name": "ipython",
    "version": 3
   },
   "file_extension": ".py",
   "mimetype": "text/x-python",
   "name": "python",
   "nbconvert_exporter": "python",
   "pygments_lexer": "ipython3",
   "version": "3.13.5"
  }
 },
 "nbformat": 4,
 "nbformat_minor": 5
}
